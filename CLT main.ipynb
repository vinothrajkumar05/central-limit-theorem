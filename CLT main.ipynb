{
 "cells": [
  {
   "cell_type": "code",
   "execution_count": 1,
   "id": "301c62bc",
   "metadata": {},
   "outputs": [],
   "source": [
    "import pandas as pd\n",
    "import matplotlib.pyplot as plt\n",
    "import seaborn as sns\n",
    "import numpy as np"
   ]
  },
  {
   "cell_type": "code",
   "execution_count": 2,
   "id": "93d5270f",
   "metadata": {},
   "outputs": [],
   "source": [
    "rate = 0.25"
   ]
  },
  {
   "cell_type": "code",
   "execution_count": 3,
   "id": "52ad4021",
   "metadata": {},
   "outputs": [],
   "source": [
    "mu = 1 / rate #mean"
   ]
  },
  {
   "cell_type": "code",
   "execution_count": 4,
   "id": "eb8f90b7",
   "metadata": {},
   "outputs": [],
   "source": [
    "sd = np.sqrt(1 / rate **2)# standard deviation"
   ]
  },
  {
   "cell_type": "code",
   "execution_count": 5,
   "id": "38c4a123",
   "metadata": {},
   "outputs": [
    {
     "data": {
      "text/plain": [
       "4.0"
      ]
     },
     "execution_count": 5,
     "metadata": {},
     "output_type": "execute_result"
    }
   ],
   "source": [
    "mu"
   ]
  },
  {
   "cell_type": "code",
   "execution_count": null,
   "id": "4be3d793",
   "metadata": {},
   "outputs": [],
   "source": []
  },
  {
   "cell_type": "code",
   "execution_count": 6,
   "id": "0df7fea7",
   "metadata": {},
   "outputs": [],
   "source": [
    "sample_size = 2"
   ]
  },
  {
   "cell_type": "code",
   "execution_count": 9,
   "id": "fce1449a",
   "metadata": {},
   "outputs": [],
   "source": [
    "df = pd.DataFrame(index= ['x1', 'x2'])"
   ]
  },
  {
   "cell_type": "code",
   "execution_count": 10,
   "id": "d73cc589",
   "metadata": {},
   "outputs": [],
   "source": [
    "for i in range(1, 51):\n",
    "    expo = np.random.exponential((1/rate), sample_size)\n",
    "    col = f'sample {i}'\n",
    "    df[col] = expo"
   ]
  },
  {
   "cell_type": "code",
   "execution_count": 11,
   "id": "9ad5a0a4",
   "metadata": {},
   "outputs": [
    {
     "data": {
      "text/html": [
       "<div>\n",
       "<style scoped>\n",
       "    .dataframe tbody tr th:only-of-type {\n",
       "        vertical-align: middle;\n",
       "    }\n",
       "\n",
       "    .dataframe tbody tr th {\n",
       "        vertical-align: top;\n",
       "    }\n",
       "\n",
       "    .dataframe thead th {\n",
       "        text-align: right;\n",
       "    }\n",
       "</style>\n",
       "<table border=\"1\" class=\"dataframe\">\n",
       "  <thead>\n",
       "    <tr style=\"text-align: right;\">\n",
       "      <th></th>\n",
       "      <th>sample 1</th>\n",
       "      <th>sample 2</th>\n",
       "      <th>sample 3</th>\n",
       "      <th>sample 4</th>\n",
       "      <th>sample 5</th>\n",
       "      <th>sample 6</th>\n",
       "      <th>sample 7</th>\n",
       "      <th>sample 8</th>\n",
       "      <th>sample 9</th>\n",
       "      <th>sample 10</th>\n",
       "      <th>...</th>\n",
       "      <th>sample 41</th>\n",
       "      <th>sample 42</th>\n",
       "      <th>sample 43</th>\n",
       "      <th>sample 44</th>\n",
       "      <th>sample 45</th>\n",
       "      <th>sample 46</th>\n",
       "      <th>sample 47</th>\n",
       "      <th>sample 48</th>\n",
       "      <th>sample 49</th>\n",
       "      <th>sample 50</th>\n",
       "    </tr>\n",
       "  </thead>\n",
       "  <tbody>\n",
       "    <tr>\n",
       "      <th>x1</th>\n",
       "      <td>5.368830</td>\n",
       "      <td>0.187471</td>\n",
       "      <td>8.365164</td>\n",
       "      <td>3.819380</td>\n",
       "      <td>1.413111</td>\n",
       "      <td>4.806884</td>\n",
       "      <td>10.123147</td>\n",
       "      <td>2.543366</td>\n",
       "      <td>1.754915</td>\n",
       "      <td>0.734160</td>\n",
       "      <td>...</td>\n",
       "      <td>8.665265</td>\n",
       "      <td>6.252695</td>\n",
       "      <td>3.745995</td>\n",
       "      <td>0.375029</td>\n",
       "      <td>3.523211</td>\n",
       "      <td>6.252281</td>\n",
       "      <td>1.693984</td>\n",
       "      <td>11.921243</td>\n",
       "      <td>1.781916</td>\n",
       "      <td>5.985263</td>\n",
       "    </tr>\n",
       "    <tr>\n",
       "      <th>x2</th>\n",
       "      <td>0.176545</td>\n",
       "      <td>0.141527</td>\n",
       "      <td>5.215475</td>\n",
       "      <td>3.338006</td>\n",
       "      <td>3.859368</td>\n",
       "      <td>2.228264</td>\n",
       "      <td>1.537043</td>\n",
       "      <td>0.888581</td>\n",
       "      <td>0.392900</td>\n",
       "      <td>2.120556</td>\n",
       "      <td>...</td>\n",
       "      <td>4.822438</td>\n",
       "      <td>0.439276</td>\n",
       "      <td>2.872662</td>\n",
       "      <td>0.347169</td>\n",
       "      <td>15.986477</td>\n",
       "      <td>4.899769</td>\n",
       "      <td>9.354968</td>\n",
       "      <td>6.551079</td>\n",
       "      <td>3.994277</td>\n",
       "      <td>7.262299</td>\n",
       "    </tr>\n",
       "  </tbody>\n",
       "</table>\n",
       "<p>2 rows × 50 columns</p>\n",
       "</div>"
      ],
      "text/plain": [
       "    sample 1  sample 2  sample 3  sample 4  sample 5  sample 6   sample 7  \\\n",
       "x1  5.368830  0.187471  8.365164  3.819380  1.413111  4.806884  10.123147   \n",
       "x2  0.176545  0.141527  5.215475  3.338006  3.859368  2.228264   1.537043   \n",
       "\n",
       "    sample 8  sample 9  sample 10  ...  sample 41  sample 42  sample 43  \\\n",
       "x1  2.543366  1.754915   0.734160  ...   8.665265   6.252695   3.745995   \n",
       "x2  0.888581  0.392900   2.120556  ...   4.822438   0.439276   2.872662   \n",
       "\n",
       "    sample 44  sample 45  sample 46  sample 47  sample 48  sample 49  \\\n",
       "x1   0.375029   3.523211   6.252281   1.693984  11.921243   1.781916   \n",
       "x2   0.347169  15.986477   4.899769   9.354968   6.551079   3.994277   \n",
       "\n",
       "    sample 50  \n",
       "x1   5.985263  \n",
       "x2   7.262299  \n",
       "\n",
       "[2 rows x 50 columns]"
      ]
     },
     "execution_count": 11,
     "metadata": {},
     "output_type": "execute_result"
    }
   ],
   "source": [
    "df"
   ]
  },
  {
   "cell_type": "code",
   "execution_count": 12,
   "id": "d12653bc",
   "metadata": {},
   "outputs": [],
   "source": [
    "df_mean = df.mean()"
   ]
  },
  {
   "cell_type": "code",
   "execution_count": 13,
   "id": "dd70c1e4",
   "metadata": {},
   "outputs": [
    {
     "data": {
      "text/plain": [
       "sample 1      2.772687\n",
       "sample 2      0.164499\n",
       "sample 3      6.790319\n",
       "sample 4      3.578693\n",
       "sample 5      2.636240\n",
       "sample 6      3.517574\n",
       "sample 7      5.830095\n",
       "sample 8      1.715974\n",
       "sample 9      1.073907\n",
       "sample 10     1.427358\n",
       "sample 11     2.863431\n",
       "sample 12     0.354600\n",
       "sample 13     1.339050\n",
       "sample 14     5.333063\n",
       "sample 15     1.808911\n",
       "sample 16     1.356112\n",
       "sample 17     1.540988\n",
       "sample 18     3.194162\n",
       "sample 19     1.818375\n",
       "sample 20     4.292625\n",
       "sample 21     1.867954\n",
       "sample 22     4.237904\n",
       "sample 23     2.133923\n",
       "sample 24     4.000726\n",
       "sample 25     2.115598\n",
       "sample 26     0.848965\n",
       "sample 27     2.661793\n",
       "sample 28     7.085491\n",
       "sample 29     2.713307\n",
       "sample 30     1.030936\n",
       "sample 31     2.728908\n",
       "sample 32     6.445969\n",
       "sample 33    11.830305\n",
       "sample 34     1.904786\n",
       "sample 35     0.490952\n",
       "sample 36     1.764101\n",
       "sample 37     7.469726\n",
       "sample 38     1.354683\n",
       "sample 39     1.696426\n",
       "sample 40     1.978121\n",
       "sample 41     6.743851\n",
       "sample 42     3.345985\n",
       "sample 43     3.309328\n",
       "sample 44     0.361099\n",
       "sample 45     9.754844\n",
       "sample 46     5.576025\n",
       "sample 47     5.524476\n",
       "sample 48     9.236161\n",
       "sample 49     2.888097\n",
       "sample 50     6.623781\n",
       "dtype: float64"
      ]
     },
     "execution_count": 13,
     "metadata": {},
     "output_type": "execute_result"
    }
   ],
   "source": [
    "df_mean"
   ]
  },
  {
   "cell_type": "code",
   "execution_count": 14,
   "id": "47819e20",
   "metadata": {},
   "outputs": [
    {
     "name": "stderr",
     "output_type": "stream",
     "text": [
      "c:\\users\\abhishek\\appdata\\local\\programs\\python\\python37\\lib\\site-packages\\seaborn\\distributions.py:2619: FutureWarning: `distplot` is a deprecated function and will be removed in a future version. Please adapt your code to use either `displot` (a figure-level function with similar flexibility) or `histplot` (an axes-level function for histograms).\n",
      "  warnings.warn(msg, FutureWarning)\n"
     ]
    },
    {
     "data": {
      "text/plain": [
       "<AxesSubplot:ylabel='Density'>"
      ]
     },
     "execution_count": 14,
     "metadata": {},
     "output_type": "execute_result"
    },
    {
     "data": {
      "image/png": "[encoded data removed]",
      "text/plain": [
       "<Figure size 432x288 with 1 Axes>"
      ]
     },
     "metadata": {
      "needs_background": "light"
     },
     "output_type": "display_data"
    }
   ],
   "source": [
    "sns.distplot(df_mean)"
   ]
  },
  {
   "cell_type": "code",
   "execution_count": null,
   "id": "5ecc7ddb",
   "metadata": {},
   "outputs": [],
   "source": []
  },
  {
   "cell_type": "code",
   "execution_count": null,
   "id": "bbc9c81f",
   "metadata": {},
   "outputs": [],
   "source": []
  },
  {
   "cell_type": "code",
   "execution_count": 15,
   "id": "558b8ab6",
   "metadata": {},
   "outputs": [],
   "source": [
    "sample_size_1 = 500"
   ]
  },
  {
   "cell_type": "code",
   "execution_count": 16,
   "id": "c8a64277",
   "metadata": {},
   "outputs": [],
   "source": [
    "df_1 = pd.DataFrame()"
   ]
  },
  {
   "cell_type": "code",
   "execution_count": 17,
   "id": "0a4b2d3b",
   "metadata": {},
   "outputs": [],
   "source": [
    "for i in range(1, 51):\n",
    "    expo = np.random.exponential((1/rate), sample_size_1)\n",
    "    col = f'sample {i}'\n",
    "    df_1[col] = expo"
   ]
  },
  {
   "cell_type": "code",
   "execution_count": 18,
   "id": "cebcc43c",
   "metadata": {},
   "outputs": [
    {
     "data": {
      "text/html": [
       "<div>\n",
       "<style scoped>\n",
       "    .dataframe tbody tr th:only-of-type {\n",
       "        vertical-align: middle;\n",
       "    }\n",
       "\n",
       "    .dataframe tbody tr th {\n",
       "        vertical-align: top;\n",
       "    }\n",
       "\n",
       "    .dataframe thead th {\n",
       "        text-align: right;\n",
       "    }\n",
       "</style>\n",
       "<table border=\"1\" class=\"dataframe\">\n",
       "  <thead>\n",
       "    <tr style=\"text-align: right;\">\n",
       "      <th></th>\n",
       "      <th>sample 1</th>\n",
       "      <th>sample 2</th>\n",
       "      <th>sample 3</th>\n",
       "      <th>sample 4</th>\n",
       "      <th>sample 5</th>\n",
       "      <th>sample 6</th>\n",
       "      <th>sample 7</th>\n",
       "      <th>sample 8</th>\n",
       "      <th>sample 9</th>\n",
       "      <th>sample 10</th>\n",
       "      <th>...</th>\n",
       "      <th>sample 41</th>\n",
       "      <th>sample 42</th>\n",
       "      <th>sample 43</th>\n",
       "      <th>sample 44</th>\n",
       "      <th>sample 45</th>\n",
       "      <th>sample 46</th>\n",
       "      <th>sample 47</th>\n",
       "      <th>sample 48</th>\n",
       "      <th>sample 49</th>\n",
       "      <th>sample 50</th>\n",
       "    </tr>\n",
       "  </thead>\n",
       "  <tbody>\n",
       "    <tr>\n",
       "      <th>0</th>\n",
       "      <td>8.014506</td>\n",
       "      <td>1.738098</td>\n",
       "      <td>2.564557</td>\n",
       "      <td>5.086199</td>\n",
       "      <td>0.487706</td>\n",
       "      <td>1.274549</td>\n",
       "      <td>0.484358</td>\n",
       "      <td>1.273244</td>\n",
       "      <td>0.103463</td>\n",
       "      <td>1.513379</td>\n",
       "      <td>...</td>\n",
       "      <td>1.052337</td>\n",
       "      <td>6.530782</td>\n",
       "      <td>2.408112</td>\n",
       "      <td>3.538674</td>\n",
       "      <td>6.603069</td>\n",
       "      <td>0.093969</td>\n",
       "      <td>2.923530</td>\n",
       "      <td>8.382131</td>\n",
       "      <td>4.144833</td>\n",
       "      <td>0.789018</td>\n",
       "    </tr>\n",
       "    <tr>\n",
       "      <th>1</th>\n",
       "      <td>6.202424</td>\n",
       "      <td>0.349060</td>\n",
       "      <td>8.624977</td>\n",
       "      <td>2.692435</td>\n",
       "      <td>0.142306</td>\n",
       "      <td>7.897034</td>\n",
       "      <td>1.290677</td>\n",
       "      <td>13.164381</td>\n",
       "      <td>3.121709</td>\n",
       "      <td>1.649037</td>\n",
       "      <td>...</td>\n",
       "      <td>0.129578</td>\n",
       "      <td>10.518150</td>\n",
       "      <td>4.160804</td>\n",
       "      <td>2.568824</td>\n",
       "      <td>16.272971</td>\n",
       "      <td>4.306588</td>\n",
       "      <td>4.272527</td>\n",
       "      <td>1.323644</td>\n",
       "      <td>0.247290</td>\n",
       "      <td>8.638804</td>\n",
       "    </tr>\n",
       "    <tr>\n",
       "      <th>2</th>\n",
       "      <td>1.718382</td>\n",
       "      <td>7.155515</td>\n",
       "      <td>0.364090</td>\n",
       "      <td>1.246331</td>\n",
       "      <td>0.005918</td>\n",
       "      <td>4.258660</td>\n",
       "      <td>0.198340</td>\n",
       "      <td>1.534193</td>\n",
       "      <td>4.420224</td>\n",
       "      <td>3.982021</td>\n",
       "      <td>...</td>\n",
       "      <td>3.103398</td>\n",
       "      <td>2.655683</td>\n",
       "      <td>0.596445</td>\n",
       "      <td>2.428788</td>\n",
       "      <td>5.540336</td>\n",
       "      <td>3.688512</td>\n",
       "      <td>0.472855</td>\n",
       "      <td>1.835721</td>\n",
       "      <td>4.794201</td>\n",
       "      <td>0.118173</td>\n",
       "    </tr>\n",
       "    <tr>\n",
       "      <th>3</th>\n",
       "      <td>2.211314</td>\n",
       "      <td>9.149489</td>\n",
       "      <td>0.233693</td>\n",
       "      <td>4.082060</td>\n",
       "      <td>6.778207</td>\n",
       "      <td>1.803169</td>\n",
       "      <td>2.615758</td>\n",
       "      <td>2.824340</td>\n",
       "      <td>3.125220</td>\n",
       "      <td>4.153994</td>\n",
       "      <td>...</td>\n",
       "      <td>3.475296</td>\n",
       "      <td>1.617510</td>\n",
       "      <td>0.864127</td>\n",
       "      <td>4.365328</td>\n",
       "      <td>0.410022</td>\n",
       "      <td>5.833432</td>\n",
       "      <td>5.720991</td>\n",
       "      <td>2.510243</td>\n",
       "      <td>1.562126</td>\n",
       "      <td>2.814756</td>\n",
       "    </tr>\n",
       "    <tr>\n",
       "      <th>4</th>\n",
       "      <td>0.311478</td>\n",
       "      <td>0.039843</td>\n",
       "      <td>2.243478</td>\n",
       "      <td>0.025335</td>\n",
       "      <td>0.389196</td>\n",
       "      <td>0.356367</td>\n",
       "      <td>2.231382</td>\n",
       "      <td>2.139120</td>\n",
       "      <td>0.531045</td>\n",
       "      <td>0.488948</td>\n",
       "      <td>...</td>\n",
       "      <td>0.040789</td>\n",
       "      <td>10.216044</td>\n",
       "      <td>0.375906</td>\n",
       "      <td>1.064087</td>\n",
       "      <td>4.401892</td>\n",
       "      <td>3.269601</td>\n",
       "      <td>1.131726</td>\n",
       "      <td>12.100359</td>\n",
       "      <td>0.652809</td>\n",
       "      <td>12.968695</td>\n",
       "    </tr>\n",
       "    <tr>\n",
       "      <th>...</th>\n",
       "      <td>...</td>\n",
       "      <td>...</td>\n",
       "      <td>...</td>\n",
       "      <td>...</td>\n",
       "      <td>...</td>\n",
       "      <td>...</td>\n",
       "      <td>...</td>\n",
       "      <td>...</td>\n",
       "      <td>...</td>\n",
       "      <td>...</td>\n",
       "      <td>...</td>\n",
       "      <td>...</td>\n",
       "      <td>...</td>\n",
       "      <td>...</td>\n",
       "      <td>...</td>\n",
       "      <td>...</td>\n",
       "      <td>...</td>\n",
       "      <td>...</td>\n",
       "      <td>...</td>\n",
       "      <td>...</td>\n",
       "      <td>...</td>\n",
       "    </tr>\n",
       "    <tr>\n",
       "      <th>495</th>\n",
       "      <td>1.406765</td>\n",
       "      <td>2.356599</td>\n",
       "      <td>0.085305</td>\n",
       "      <td>1.798642</td>\n",
       "      <td>0.164027</td>\n",
       "      <td>2.592921</td>\n",
       "      <td>1.440235</td>\n",
       "      <td>1.358500</td>\n",
       "      <td>2.391236</td>\n",
       "      <td>0.232397</td>\n",
       "      <td>...</td>\n",
       "      <td>0.026890</td>\n",
       "      <td>15.199542</td>\n",
       "      <td>3.861725</td>\n",
       "      <td>2.807728</td>\n",
       "      <td>1.131618</td>\n",
       "      <td>13.321933</td>\n",
       "      <td>2.021402</td>\n",
       "      <td>3.734059</td>\n",
       "      <td>7.061645</td>\n",
       "      <td>6.795545</td>\n",
       "    </tr>\n",
       "    <tr>\n",
       "      <th>496</th>\n",
       "      <td>7.494104</td>\n",
       "      <td>12.594168</td>\n",
       "      <td>3.232334</td>\n",
       "      <td>14.377543</td>\n",
       "      <td>4.424134</td>\n",
       "      <td>1.775890</td>\n",
       "      <td>0.829626</td>\n",
       "      <td>1.071629</td>\n",
       "      <td>0.137361</td>\n",
       "      <td>3.569778</td>\n",
       "      <td>...</td>\n",
       "      <td>8.156663</td>\n",
       "      <td>1.269389</td>\n",
       "      <td>0.982126</td>\n",
       "      <td>3.366191</td>\n",
       "      <td>5.031862</td>\n",
       "      <td>12.605059</td>\n",
       "      <td>16.205538</td>\n",
       "      <td>0.846518</td>\n",
       "      <td>1.876499</td>\n",
       "      <td>6.866354</td>\n",
       "    </tr>\n",
       "    <tr>\n",
       "      <th>497</th>\n",
       "      <td>1.263433</td>\n",
       "      <td>3.939056</td>\n",
       "      <td>4.219613</td>\n",
       "      <td>5.603443</td>\n",
       "      <td>9.642772</td>\n",
       "      <td>5.730257</td>\n",
       "      <td>6.922886</td>\n",
       "      <td>0.654887</td>\n",
       "      <td>1.572176</td>\n",
       "      <td>9.866488</td>\n",
       "      <td>...</td>\n",
       "      <td>3.102703</td>\n",
       "      <td>12.326420</td>\n",
       "      <td>0.223770</td>\n",
       "      <td>2.504734</td>\n",
       "      <td>4.017299</td>\n",
       "      <td>0.556818</td>\n",
       "      <td>0.100156</td>\n",
       "      <td>9.611759</td>\n",
       "      <td>2.375682</td>\n",
       "      <td>4.033333</td>\n",
       "    </tr>\n",
       "    <tr>\n",
       "      <th>498</th>\n",
       "      <td>5.002670</td>\n",
       "      <td>2.314319</td>\n",
       "      <td>1.094709</td>\n",
       "      <td>11.135743</td>\n",
       "      <td>4.499124</td>\n",
       "      <td>14.424455</td>\n",
       "      <td>5.314836</td>\n",
       "      <td>3.887896</td>\n",
       "      <td>3.938956</td>\n",
       "      <td>0.649693</td>\n",
       "      <td>...</td>\n",
       "      <td>3.227706</td>\n",
       "      <td>3.376571</td>\n",
       "      <td>3.289290</td>\n",
       "      <td>7.799412</td>\n",
       "      <td>9.338739</td>\n",
       "      <td>1.782173</td>\n",
       "      <td>4.876323</td>\n",
       "      <td>7.131525</td>\n",
       "      <td>0.884510</td>\n",
       "      <td>0.861274</td>\n",
       "    </tr>\n",
       "    <tr>\n",
       "      <th>499</th>\n",
       "      <td>0.977777</td>\n",
       "      <td>1.189271</td>\n",
       "      <td>17.034215</td>\n",
       "      <td>5.490736</td>\n",
       "      <td>2.869730</td>\n",
       "      <td>7.446238</td>\n",
       "      <td>8.632291</td>\n",
       "      <td>3.421575</td>\n",
       "      <td>9.045963</td>\n",
       "      <td>1.731506</td>\n",
       "      <td>...</td>\n",
       "      <td>2.066485</td>\n",
       "      <td>0.940933</td>\n",
       "      <td>0.986579</td>\n",
       "      <td>7.069035</td>\n",
       "      <td>7.882892</td>\n",
       "      <td>1.800965</td>\n",
       "      <td>8.886171</td>\n",
       "      <td>2.067053</td>\n",
       "      <td>7.738906</td>\n",
       "      <td>4.470992</td>\n",
       "    </tr>\n",
       "  </tbody>\n",
       "</table>\n",
       "<p>500 rows × 50 columns</p>\n",
       "</div>"
      ],
      "text/plain": [
       "     sample 1   sample 2   sample 3   sample 4  sample 5   sample 6  sample 7  \\\n",
       "0    8.014506   1.738098   2.564557   5.086199  0.487706   1.274549  0.484358   \n",
       "1    6.202424   0.349060   8.624977   2.692435  0.142306   7.897034  1.290677   \n",
       "2    1.718382   7.155515   0.364090   1.246331  0.005918   4.258660  0.198340   \n",
       "3    2.211314   9.149489   0.233693   4.082060  6.778207   1.803169  2.615758   \n",
       "4    0.311478   0.039843   2.243478   0.025335  0.389196   0.356367  2.231382   \n",
       "..        ...        ...        ...        ...       ...        ...       ...   \n",
       "495  1.406765   2.356599   0.085305   1.798642  0.164027   2.592921  1.440235   \n",
       "496  7.494104  12.594168   3.232334  14.377543  4.424134   1.775890  0.829626   \n",
       "497  1.263433   3.939056   4.219613   5.603443  9.642772   5.730257  6.922886   \n",
       "498  5.002670   2.314319   1.094709  11.135743  4.499124  14.424455  5.314836   \n",
       "499  0.977777   1.189271  17.034215   5.490736  2.869730   7.446238  8.632291   \n",
       "\n",
       "      sample 8  sample 9  sample 10  ...  sample 41  sample 42  sample 43  \\\n",
       "0     1.273244  0.103463   1.513379  ...   1.052337   6.530782   2.408112   \n",
       "1    13.164381  3.121709   1.649037  ...   0.129578  10.518150   4.160804   \n",
       "2     1.534193  4.420224   3.982021  ...   3.103398   2.655683   0.596445   \n",
       "3     2.824340  3.125220   4.153994  ...   3.475296   1.617510   0.864127   \n",
       "4     2.139120  0.531045   0.488948  ...   0.040789  10.216044   0.375906   \n",
       "..         ...       ...        ...  ...        ...        ...        ...   \n",
       "495   1.358500  2.391236   0.232397  ...   0.026890  15.199542   3.861725   \n",
       "496   1.071629  0.137361   3.569778  ...   8.156663   1.269389   0.982126   \n",
       "497   0.654887  1.572176   9.866488  ...   3.102703  12.326420   0.223770   \n",
       "498   3.887896  3.938956   0.649693  ...   3.227706   3.376571   3.289290   \n",
       "499   3.421575  9.045963   1.731506  ...   2.066485   0.940933   0.986579   \n",
       "\n",
       "     sample 44  sample 45  sample 46  sample 47  sample 48  sample 49  \\\n",
       "0     3.538674   6.603069   0.093969   2.923530   8.382131   4.144833   \n",
       "1     2.568824  16.272971   4.306588   4.272527   1.323644   0.247290   \n",
       "2     2.428788   5.540336   3.688512   0.472855   1.835721   4.794201   \n",
       "3     4.365328   0.410022   5.833432   5.720991   2.510243   1.562126   \n",
       "4     1.064087   4.401892   3.269601   1.131726  12.100359   0.652809   \n",
       "..         ...        ...        ...        ...        ...        ...   \n",
       "495   2.807728   1.131618  13.321933   2.021402   3.734059   7.061645   \n",
       "496   3.366191   5.031862  12.605059  16.205538   0.846518   1.876499   \n",
       "497   2.504734   4.017299   0.556818   0.100156   9.611759   2.375682   \n",
       "498   7.799412   9.338739   1.782173   4.876323   7.131525   0.884510   \n",
       "499   7.069035   7.882892   1.800965   8.886171   2.067053   7.738906   \n",
       "\n",
       "     sample 50  \n",
       "0     0.789018  \n",
       "1     8.638804  \n",
       "2     0.118173  \n",
       "3     2.814756  \n",
       "4    12.968695  \n",
       "..         ...  \n",
       "495   6.795545  \n",
       "496   6.866354  \n",
       "497   4.033333  \n",
       "498   0.861274  \n",
       "499   4.470992  \n",
       "\n",
       "[500 rows x 50 columns]"
      ]
     },
     "execution_count": 18,
     "metadata": {},
     "output_type": "execute_result"
    }
   ],
   "source": [
    "df_1"
   ]
  },
  {
   "cell_type": "code",
   "execution_count": 19,
   "id": "b321d1ad",
   "metadata": {},
   "outputs": [],
   "source": [
    "df_mean_1 = df_1.mean()"
   ]
  },
  {
   "cell_type": "code",
   "execution_count": 22,
   "id": "4028f755",
   "metadata": {},
   "outputs": [
    {
     "data": {
      "text/plain": [
       "sample 1    3.834661\n",
       "sample 2    4.128603\n",
       "sample 3    4.328941\n",
       "sample 4    4.109360\n",
       "sample 5    4.304814\n",
       "dtype: float64"
      ]
     },
     "execution_count": 22,
     "metadata": {},
     "output_type": "execute_result"
    }
   ],
   "source": [
    "df_mean_1.head()"
   ]
  },
  {
   "cell_type": "code",
   "execution_count": 21,
   "id": "204ba2e9",
   "metadata": {},
   "outputs": [
    {
     "name": "stderr",
     "output_type": "stream",
     "text": [
      "c:\\users\\abhishek\\appdata\\local\\programs\\python\\python37\\lib\\site-packages\\seaborn\\distributions.py:2619: FutureWarning: `distplot` is a deprecated function and will be removed in a future version. Please adapt your code to use either `displot` (a figure-level function with similar flexibility) or `histplot` (an axes-level function for histograms).\n",
      "  warnings.warn(msg, FutureWarning)\n"
     ]
    },
    {
     "data": {
      "text/plain": [
       "<AxesSubplot:ylabel='Density'>"
      ]
     },
     "execution_count": 21,
     "metadata": {},
     "output_type": "execute_result"
    },
    {
     "data": {
      "image/png": "[encoded data removed]",
      "text/plain": [
       "<Figure size 432x288 with 1 Axes>"
      ]
     },
     "metadata": {
      "needs_background": "light"
     },
     "output_type": "display_data"
    }
   ],
   "source": [
    "sns.distplot(df_mean_1)"
   ]
  },
  {
   "cell_type": "code",
   "execution_count": null,
   "id": "82c8ef1d",
   "metadata": {},
   "outputs": [],
   "source": []
  }
 ],
 "metadata": {
  "kernelspec": {
   "display_name": "Python 3 (ipykernel)",
   "language": "python",
   "name": "python3"
  },
  "language_info": {
   "codemirror_mode": {
    "name": "ipython",
    "version": 3
   },
   "file_extension": ".py",
   "mimetype": "text/x-python",
   "name": "python",
   "nbconvert_exporter": "python",
   "pygments_lexer": "ipython3",
   "version": "3.10.1"
  }
 },
 "nbformat": 4,
 "nbformat_minor": 5
}
